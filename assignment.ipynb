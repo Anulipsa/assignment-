{
 "cells": [
  {
   "cell_type": "code",
   "execution_count": 5,
   "id": "6ae9b7a9",
   "metadata": {},
   "outputs": [
    {
     "ename": "IndentationError",
     "evalue": "unexpected indent (Temp/ipykernel_7596/1182052568.py, line 2)",
     "output_type": "error",
     "traceback": [
      "\u001b[1;36m  File \u001b[1;32m\"C:\\Users\\ANULIP~1\\AppData\\Local\\Temp/ipykernel_7596/1182052568.py\"\u001b[1;36m, line \u001b[1;32m2\u001b[0m\n\u001b[1;33m    print(s[1:300:3])\u001b[0m\n\u001b[1;37m    ^\u001b[0m\n\u001b[1;31mIndentationError\u001b[0m\u001b[1;31m:\u001b[0m unexpected indent\n"
     ]
    }
   ],
   "source": []
  },
  {
   "cell_type": "code",
   "execution_count": 7,
   "id": "b202b271",
   "metadata": {},
   "outputs": [
    {
     "name": "stdout",
     "output_type": "stream",
     "text": [
      "h   r tnrrmglsnimeNGyosi dtfco\n"
     ]
    }
   ],
   "source": [
    "s = \"this is My First Python programming class and i am learNING python string and its function\"\n",
    "print(s[1:300:3])"
   ]
  },
  {
   "cell_type": "code",
   "execution_count": 8,
   "id": "d6a20a26",
   "metadata": {},
   "outputs": [
    {
     "data": {
      "text/plain": [
       "'noitcnuf sti dna gnirts nohtyp GNINrael ma i dna ssalc gnimmargorp nohtyP tsriF yM si siht'"
      ]
     },
     "execution_count": 8,
     "metadata": {},
     "output_type": "execute_result"
    }
   ],
   "source": [
    "s[::-1]"
   ]
  },
  {
   "cell_type": "code",
   "execution_count": 9,
   "id": "dc80d8e3",
   "metadata": {},
   "outputs": [
    {
     "name": "stdout",
     "output_type": "stream",
     "text": [
      "THIS IS MY FIRST PYTHON PROGRAMMING CLASS AND I AM LEARNING PYTHON STRING AND ITS FUNCTION\n"
     ]
    }
   ],
   "source": [
    "print(s.upper())"
   ]
  },
  {
   "cell_type": "code",
   "execution_count": 10,
   "id": "91fe5122",
   "metadata": {},
   "outputs": [
    {
     "name": "stdout",
     "output_type": "stream",
     "text": [
      "['this', 'is', 'My', 'First', 'Python', 'programming', 'class', 'and', 'i', 'am', 'learNING', 'python', 'string', 'and', 'its', 'function']\n"
     ]
    }
   ],
   "source": [
    "print(s.split())"
   ]
  },
  {
   "cell_type": "code",
   "execution_count": 11,
   "id": "a9b585a0",
   "metadata": {},
   "outputs": [
    {
     "name": "stdout",
     "output_type": "stream",
     "text": [
      "this is my first python programming class and i am learning python string and its function\n"
     ]
    }
   ],
   "source": [
    "print(s.lower())"
   ]
  },
  {
   "cell_type": "code",
   "execution_count": 13,
   "id": "b9984ee1",
   "metadata": {},
   "outputs": [
    {
     "name": "stdout",
     "output_type": "stream",
     "text": [
      "This is my first python programming class and i am learning python string and its function\n"
     ]
    }
   ],
   "source": [
    "print(s.capitalize())"
   ]
  },
  {
   "cell_type": "code",
   "execution_count": 17,
   "id": "a8d95d2e",
   "metadata": {},
   "outputs": [
    {
     "ename": "SyntaxError",
     "evalue": "invalid syntax (Temp/ipykernel_7596/387966095.py, line 1)",
     "output_type": "error",
     "traceback": [
      "\u001b[1;36m  File \u001b[1;32m\"C:\\Users\\ANULIP~1\\AppData\\Local\\Temp/ipykernel_7596/387966095.py\"\u001b[1;36m, line \u001b[1;32m1\u001b[0m\n\u001b[1;33m    isalnum() method returns true if all characters of a string are either alphabets (between ‘A’ to ‘Z’ and between ‘a’ to ‘z’) or numbers (0 to 9) or both, otherwise method returns false.\u001b[0m\n\u001b[1;37m              ^\u001b[0m\n\u001b[1;31mSyntaxError\u001b[0m\u001b[1;31m:\u001b[0m invalid syntax\n"
     ]
    }
   ],
   "source": [
    "isalnum() method returns true if all characters of a string are either alphabets (between ‘A’ to ‘Z’ and between ‘a’ to ‘z’) or numbers (0 to 9) or both, otherwise method returns false.\n",
    "\n",
    "isalpha() method returns true if all characters of a string are only alphabets (between ‘A’ to ‘Z’ and between ‘a’ to ‘z’). If there is any non alphabet character in the string, method returns false.\n",
    "print s.isalpha()"
   ]
  },
  {
   "cell_type": "code",
   "execution_count": 18,
   "id": "a29c54fe",
   "metadata": {},
   "outputs": [
    {
     "data": {
      "text/plain": [
       "'Anulipsa         bisoyi'"
      ]
     },
     "execution_count": 18,
     "metadata": {},
     "output_type": "execute_result"
    }
   ],
   "source": [
    "s=\"Anulipsa\\t bisoyi\"\n",
    "s.expandtabs()"
   ]
  },
  {
   "cell_type": "code",
   "execution_count": 19,
   "id": "cc015c72",
   "metadata": {},
   "outputs": [
    {
     "data": {
      "text/plain": [
       "'       Anulipsa'"
      ]
     },
     "execution_count": 19,
     "metadata": {},
     "output_type": "execute_result"
    }
   ],
   "source": [
    "s='       Anulipsa'\n",
    "s"
   ]
  },
  {
   "cell_type": "code",
   "execution_count": 20,
   "id": "1b2b4b9e",
   "metadata": {},
   "outputs": [
    {
     "data": {
      "text/plain": [
       "'Anulipsa'"
      ]
     },
     "execution_count": 20,
     "metadata": {},
     "output_type": "execute_result"
    }
   ],
   "source": [
    "s.lstrip()"
   ]
  },
  {
   "cell_type": "code",
   "execution_count": 21,
   "id": "b1e39411",
   "metadata": {},
   "outputs": [
    {
     "data": {
      "text/plain": [
       "'       Anulipsa'"
      ]
     },
     "execution_count": 21,
     "metadata": {},
     "output_type": "execute_result"
    }
   ],
   "source": [
    "s.rstrip()"
   ]
  },
  {
   "cell_type": "code",
   "execution_count": null,
   "id": "b6352ed1",
   "metadata": {},
   "outputs": [],
   "source": [
    "The method center() returns centered in a string of length width. Padding is done using the specified fillchar. Default filler is a space.\n",
    "str.center(width[, fillchar])"
   ]
  },
  {
   "cell_type": "code",
   "execution_count": 24,
   "id": "f8d7bf54",
   "metadata": {},
   "outputs": [
    {
     "data": {
      "text/plain": [
       "'my name is lipa'"
      ]
     },
     "execution_count": 24,
     "metadata": {},
     "output_type": "execute_result"
    }
   ],
   "source": [
    "s=\"my name is anulipsa\"\n",
    "s.replace(\"anulipsa\",\"lipa\")\n"
   ]
  },
  {
   "cell_type": "code",
   "execution_count": null,
   "id": "c28a3cc8",
   "metadata": {},
   "outputs": [],
   "source": [
    "compiler scans the entire program and translates whole of it into machine code.\n",
    "compiler translates the complete progam in a single run.\n",
    "interpreter translates one statement at a time into machine  code.\n",
    "interpreter translates the source program line by line.\n"
   ]
  },
  {
   "cell_type": "code",
   "execution_count": null,
   "id": "63a75961",
   "metadata": {},
   "outputs": [],
   "source": [
    "use cases of python:\n",
    "    Data Science,\n",
    "    Artificial Intelligence\n",
    "    Game development\n",
    "    Internet of Things\n",
    "    Web Scraping\n",
    "    Desktop GUI"
   ]
  }
 ],
 "metadata": {
  "kernelspec": {
   "display_name": "Python 3 (ipykernel)",
   "language": "python",
   "name": "python3"
  },
  "language_info": {
   "codemirror_mode": {
    "name": "ipython",
    "version": 3
   },
   "file_extension": ".py",
   "mimetype": "text/x-python",
   "name": "python",
   "nbconvert_exporter": "python",
   "pygments_lexer": "ipython3",
   "version": "3.9.7"
  }
 },
 "nbformat": 4,
 "nbformat_minor": 5
}
